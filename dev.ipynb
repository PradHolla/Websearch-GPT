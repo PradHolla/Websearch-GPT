{
 "cells": [
  {
   "cell_type": "code",
   "execution_count": 8,
   "metadata": {},
   "outputs": [
    {
     "data": {
      "text/plain": [
       "True"
      ]
     },
     "execution_count": 8,
     "metadata": {},
     "output_type": "execute_result"
    }
   ],
   "source": [
    "from langchain_community.tools import DuckDuckGoSearchResults\n",
    "from langchain_ollama import ChatOllama\n",
    "from langchain_aws import ChatBedrock\n",
    "from langchain_core.prompts import ChatPromptTemplate\n",
    "from langchain_core.output_parsers import StrOutputParser\n",
    "from dotenv import load_dotenv\n",
    "\n",
    "load_dotenv()"
   ]
  },
  {
   "cell_type": "code",
   "execution_count": 13,
   "metadata": {},
   "outputs": [],
   "source": [
    "# Setup Tavily Search Tool\n",
    "# search = TavilySearchResults(max_results=3)\n",
    "search = DuckDuckGoSearchResults(max_results=5, output_format='list')\n",
    "# Initialize Language Model\n",
    "llm = ChatBedrock(model=\"us.meta.llama3-2-11b-instruct-v1:0\", streaming=True)"
   ]
  },
  {
   "cell_type": "code",
   "execution_count": 14,
   "metadata": {},
   "outputs": [
    {
     "name": "stdout",
     "output_type": "stream",
     "text": [
      "[{'snippet': \"Which is thanks in large part to Su's leadership. When she became CEO a decade ago, AMD stock was languishing around $3, its share of the data-center chip market had fallen so far that ...\", 'title': 'Lisa Su: CEO of the Year 2024 - TIME', 'link': 'https://time.com/7200909/ceo-of-the-year-2024-lisa-su/'}, {'snippet': 'Su, who lives and works in Austin, has headed Advanced Micro Devices, Inc. (AMD) as its CEO since 2014. Over the past decade, AMD surpassed its rival Intel in total company value for the first ...', 'title': \"Austin-based AMD CEO named Time's 2024 CEO of the Year - mySA\", 'link': 'https://www.mysanantonio.com/business/article/lisa-su-amd-time-ceo-2024-19978092.php'}, {'snippet': \"Advanced Micro Devices (AMD) CEO Lisa Su's out-of-hours expectations are going viral after being named Time's CEO of the year.. There are two types of leaders: those who promote a firm clock-off ...\", 'title': \"Meet Time CEO of the year Lisa Su, who grew AMD's share price by 50x ...\", 'link': 'https://finance.yahoo.com/news/meet-time-ceo-lisa-su-093000038.html'}, {'snippet': 'Chief Executive magazine today announced that Dr. Lisa Su, CEO of AMD, has been named 2024 Chief Executive of the Year by her peer CEOs. Dr. Su was selected by an independent committee of CEOs for ...', 'title': \"AMD's Dr. Lisa Su Named Chief Executive Magazine's 2024 CEO of the Year\", 'link': 'https://finance.yahoo.com/news/amds-dr-lisa-su-named-123300127.html'}]\n"
     ]
    }
   ],
   "source": [
    "search_results = search.invoke('Who is the CEO of AMD?')\n",
    "print(search_results)"
   ]
  },
  {
   "cell_type": "code",
   "execution_count": 54,
   "metadata": {},
   "outputs": [
    {
     "data": {
      "text/plain": [
       "[{'title': \"CEO Of The Year: A Conversation With AMD's Revolutionary Lisa Su\",\n",
       "  'url': 'https://chiefexecutive.net/ceo-of-the-year-a-conversation-with-amds-revolutionary-lisa-su/',\n",
       "  'content': '“Lisa Su’s leadership in transforming AMD into a global leader in innovation and technology is truly remarkable,” says Ed Bastian, CEO of Delta Air Lines and Chief Executive’s 2023 CEO of the Year, who served on this year’s selection committee. The way I like to say it is, “Look, if you’re going to trust me or trust AMD with your most important projects, then I’d like you to know there’s a face behind the company.” So for our largest customers, I want you to trust me.',\n",
       "  'score': 0.82254606,\n",
       "  'raw_content': None},\n",
       " {'title': 'Dr. Lisa Su - AMD',\n",
       "  'url': 'https://www.amd.com/en/corporate/leadership/lisa-su.html',\n",
       "  'content': \"We Have an Incredibly Competitive AI Product\\xa0–\\xa0CNBC\\nAMD CEO sees a Golden Opportunity for AMD AI Chips\\xa0–\\xa0FORTUNE\\nAMD CEO Lisa Su: We will start production on next gen A.I. chip by the end of the year\\xa0– CNBC\\nAMD CEO on new AI superchip: This is 'incredibly powerful' technology\\xa0– Yahoo\\nHow AMD CEO Lisa Su turned AMD into a semiconductor powerhouse\\xa0– Forbes\\nThe Computer Chip Wars: How AMD Ended Intel's Market Dominance\\xa0–\\xa0Wall Street Journal\\nAdvancing AI Event\\xa0– YouTube\\nLisa Su on Behind the Tech with Microsoft's CTO Kevin Scott\\nLisa Su at Code Conference 2023\\nData Center and AI Technology Premiere –\\xa0YouTube\\nISSCC Keynote\\xa0–\\xa0YouTube\\nLisa Su at CES 2023 – YouTube\\nLisa Su at AMD 2022 together we advance_data centers Event\\xa0–\\xa0YouTube\\nLisa Su at AMD 2022 together we advance_gaming Event\\xa0–\\xa0YouTube\\nLisa Su at AMD 2022 together we advance_PCs Event\\xa0–\\xa0YouTube\\nNewsroom\\nView the latest AMD news and blogs\\nMedia Library\\nFind and download the latest AMD corporate and product logos, photos and b-roll\\nMedia Contacts\\nContact our media team to get more information for your next story\\nSubscribe to the latest news from AMD Recent Awards and Accolades\\nDigital photos of Lisa Su\\nAMD CEO says “AI is the Most Important Technology in 50 Years”\\xa0–\\xa0CNBC\\n“This is an Opportunity to Build a Major Growth Driver,” says AMD CEO on AI\\xa0–\\xa0Bloomberg\\nAMD CEO says “Compute Demand Driving AI Market Opportunity”\\xa0–\\xa0Bloomberg\\nAMD CEO: There Will be Multiple Winners in the AI Chip Battle\\xa0–\\xa0Yahoo! Executive Team\\nDr. Lisa Su\\nChair and Chief Executive Officer\\nMore About Lisa\\nAs chair and chief executive officer, Dr. Lisa T. Su led the transformation of AMD into the high-performance and adaptive computing leader, and one of the fastest growing semiconductor companies in the world. Prior to joining AMD, Dr. Su served as senior vice president and general manager, Networking and Multimedia at Freescale Semiconductor, Inc. (a semiconductor manufacturing company) and was responsible for global strategy, marketing and engineering for the company’s embedded communications and applications processor business. In 2020, Fortune named Dr. Su #2 on its\\xa0“Business Person of the Year”\\xa0list, she was elected to the American Academy of Arts & Science, and received the\\xa0Grace Hopper Technical Leadership Abie Award.\",\n",
       "  'score': 0.82048416,\n",
       "  'raw_content': None},\n",
       " {'title': 'Lisa Su - Forbes',\n",
       "  'url': 'https://www.forbes.com/profile/lisa-su/',\n",
       "  'content': \"### How Generative AI Helped Make AMD’s Lisa Su A Billionaire ### While AMD Lags NVIDIA In Generative AI, CEO Lisa Su Is Bullish AMD's CEO Dr Lisa Su took to the stage in Austin, Texas today to announce the company's next generation desktop processors. Analyst Matt Kimball provides his quick take on the news that AMD CEO Dr. Lisa Su will join Cisco's Board of Directors. ### AMD CEO Dr. Lisa Su Confirms Next-Generation RDNA GPUs Are Coming This Year ### CES 2019: AMD CEO Dr. Lisa Su Reveals Sizzling Developments In Computing Power Principal analyst Patrick Moorhead shares his thoughts on AMD's Q3 earnings after speaking with AMD CEO Lisa Su. ByPatrick MoorheadSenior Contributor\",\n",
       "  'score': 0.80089486,\n",
       "  'raw_content': None}]"
      ]
     },
     "execution_count": 54,
     "metadata": {},
     "output_type": "execute_result"
    }
   ],
   "source": [
    "# Extract the results directly from the artifact dictionary\n",
    "results = search_results.artifact['results']\n",
    "\n",
    "results"
   ]
  },
  {
   "cell_type": "code",
   "execution_count": 4,
   "metadata": {},
   "outputs": [
    {
     "name": "stdout",
     "output_type": "stream",
     "text": [
      "It's nice to meet you. Is there something I can help you with or would you like to chat?\n"
     ]
    }
   ],
   "source": [
    "# for chunk in llm.stream(\"hi\"):\n",
    "#     print(chunk.content, end=\"\", flush=True)\n",
    "resp = llm.invoke(\"HI\")\n",
    "print(resp.content)"
   ]
  },
  {
   "cell_type": "code",
   "execution_count": 3,
   "metadata": {},
   "outputs": [],
   "source": [
    "# Create Prompt Template\n",
    "prompt = ChatPromptTemplate.from_template(\"\"\"\n",
    "Using the following web search results, provide a comprehensive answer to the question.\n",
    "\n",
    "Search Results:\n",
    "{search_results}\n",
    "\n",
    "Question: {question}\n",
    "\n",
    "Guidelines:\n",
    "- Base your answer solely on the provided search results\n",
    "- Be clear and concise\n",
    "- Include key information from the sources\n",
    "- Cite sources at the end of your response\n",
    "\n",
    "Answer:\"\"\")"
   ]
  },
  {
   "cell_type": "code",
   "execution_count": 4,
   "metadata": {},
   "outputs": [],
   "source": [
    "\n",
    "# Create Chain for Web Search and Answer Generation\n",
    "def tavily_search_and_answer(query):\n",
    "    # Perform web search\n",
    "    search_results = search.invoke(query)\n",
    "    \n",
    "    # Format search results\n",
    "    formatted_results = \"\\n\\n\".join([\n",
    "        f\"Source {i+1} ({result['url']}):\\n{result['content']}\" \n",
    "        for i, result in enumerate(search_results)\n",
    "    ])\n",
    "    \n",
    "    # Generate answer chain\n",
    "    chain = (\n",
    "        prompt \n",
    "        | llm \n",
    "        | StrOutputParser()\n",
    "    )\n",
    "    \n",
    "    # Invoke chain\n",
    "    answer = chain.invoke({\n",
    "        \"search_results\": formatted_results, \n",
    "        \"question\": query\n",
    "    })\n",
    "    \n",
    "    # Append sources\n",
    "    full_response = answer + \"\\n\\nSources:\\n\" + \"\\n\".join([\n",
    "        f\"{i+1}. {result['url']}\" \n",
    "        for i, result in enumerate(search_results)\n",
    "    ])\n",
    "    \n",
    "    return full_response"
   ]
  },
  {
   "cell_type": "code",
   "execution_count": 5,
   "metadata": {},
   "outputs": [
    {
     "name": "stdout",
     "output_type": "stream",
     "text": [
      "Unfortunately, the search results do not provide a real-time stock price of NVIDIA (NVDA) at the moment. However, I can provide some information on how to find the current stock price and some recent price movements.\n",
      "\n",
      "According to Source 2 (Google Finance), NVIDIA's stock price is not displayed in real-time, but it provides a link to the current price and news. Source 3 (Moneycontrol) and Source 5 (MarketWatch) also provide a live stock price, but it is not visible in the search results.\n",
      "\n",
      "Source 1 (The Wall Street Journal) and Source 4 (Stockanalysis) do not provide a real-time stock price, but they do provide some historical data and statistics.\n",
      "\n",
      "Recent price movements:\n",
      "\n",
      "* According to Source 2, NVIDIA's stock price has been affected by various news articles, including reports of Blackwell AI server issues ahead of earnings.\n",
      "* Source 3 mentions that the share price is up or down, but does not provide a specific price.\n",
      "\n",
      "To find the current stock price of NVIDIA, I recommend visiting the websites of the sources mentioned above or using a financial website or app that provides real-time stock prices.\n",
      "\n",
      "Sources:\n",
      "1. The Wall Street Journal (https://www.wsj.com/market-data/quotes/NVDA)\n",
      "2. Google Finance (https://www.google.com/finance/quote/NVDA:NASDAQ)\n",
      "3. Moneycontrol (https://www.moneycontrol.com/us-markets/stockpricequote/nvidia/NVDA)\n",
      "4. Stockanalysis (https://stockanalysis.com/stocks/nvda/)\n",
      "5. MarketWatch (https://www.marketwatch.com/investing/stock/NVDA)\n",
      "\n",
      "Sources:\n",
      "1. https://www.wsj.com/market-data/quotes/NVDA\n",
      "2. https://www.google.com/finance/quote/NVDA:NASDAQ\n",
      "3. https://www.moneycontrol.com/us-markets/stockpricequote/nvidia/NVDA\n",
      "4. https://stockanalysis.com/stocks/nvda/\n",
      "5. https://www.marketwatch.com/investing/stock/NVDA\n"
     ]
    }
   ],
   "source": [
    "result = tavily_search_and_answer(\"What is the stock price of NVIDIA right now?\")\n",
    "print(result)"
   ]
  },
  {
   "cell_type": "code",
   "execution_count": 67,
   "metadata": {},
   "outputs": [
    {
     "name": "stdout",
     "output_type": "stream",
     "text": [
      "CHAT\n"
     ]
    }
   ],
   "source": [
    "from langchain_core.messages import HumanMessage, AIMessage, SystemMessage\n",
    "\n",
    "messages = \"How are you?\"\n",
    "\n",
    "system_prompt = \"\"\"You are a Decider. Given a Conversation History or an individual question, your job is to analyze and DECIDE if you need to either output 'CASUAL_CHAT' or 'SEARCH'.\n",
    "    'SEARCH' - output this if the user asked something that its not in the Conversation History so that the decision is that you need to search information.\n",
    "    'CHAT': output this whenever the user is talking about something already present in the Conversation History and you wouldnt need to perform any search.\n",
    "    Your MUST only respond in one of the two fixed words and nothing else: 'SEARCH' or 'CHAT'.\n",
    "    \"\"\"\n",
    "decision_llm = ChatBedrock(model=\"us.meta.llama3-2-11b-instruct-v1:0\")\n",
    "decision = decision_llm.invoke([\n",
    "    SystemMessage(content=system_prompt),\n",
    "    HumanMessage(content=messages)\n",
    "]).content.strip().upper()\n",
    "print(decision)"
   ]
  }
 ],
 "metadata": {
  "kernelspec": {
   "display_name": "ML",
   "language": "python",
   "name": "python3"
  },
  "language_info": {
   "codemirror_mode": {
    "name": "ipython",
    "version": 3
   },
   "file_extension": ".py",
   "mimetype": "text/x-python",
   "name": "python",
   "nbconvert_exporter": "python",
   "pygments_lexer": "ipython3",
   "version": "3.13.0"
  }
 },
 "nbformat": 4,
 "nbformat_minor": 2
}
